{
  "nbformat": 4,
  "nbformat_minor": 0,
  "metadata": {
    "colab": {
      "provenance": [],
      "gpuType": "T4",
      "toc_visible": true
    },
    "kernelspec": {
      "name": "python3",
      "display_name": "Python 3"
    },
    "language_info": {
      "name": "python"
    },
    "accelerator": "GPU"
  },
  "cells": [
    {
      "cell_type": "markdown",
      "source": [
        "**This code prints the installed version of PyTorch to verify the environment is\n",
        "correctly set up and to ensure compatibility with subsequent operations that rely on specific tensor behaviors or GPU support.**"
      ],
      "metadata": {
        "id": "yrVdoS5G_Um9"
      }
    },
    {
      "cell_type": "code",
      "execution_count": 1,
      "metadata": {
        "colab": {
          "base_uri": "https://localhost:8080/"
        },
        "id": "nkeuV6KFK_fe",
        "outputId": "413bf95f-f94c-4309-cec4-7e3b013eedd1"
      },
      "outputs": [
        {
          "output_type": "stream",
          "name": "stdout",
          "text": [
            "2.8.0+cu126\n"
          ]
        }
      ],
      "source": [
        "import torch\n",
        "print(torch.__version__)"
      ]
    },
    {
      "cell_type": "markdown",
      "source": [
        "**This code checks whether a CUDA-compatible GPU is available to PyTorch, and if so, confirms GPU usage by displaying the device name; otherwise, it notifies that computations will default to CPU — enabling conditional execution based on hardware capabilities for optimized performance.**"
      ],
      "metadata": {
        "id": "GVLTo8c3_ugP"
      }
    },
    {
      "cell_type": "code",
      "source": [
        "if torch.cuda.is_available():\n",
        "  print(\"GPU is available\")\n",
        "  print(f\"using GPU:{torch.cuda.get_device_name(0)}\")\n",
        "else:\n",
        "  print(\"GPU is not available\")"
      ],
      "metadata": {
        "colab": {
          "base_uri": "https://localhost:8080/"
        },
        "id": "OWtX7auTLJPY",
        "outputId": "6813455d-7105-425e-daf7-231f8b196ef4"
      },
      "execution_count": 2,
      "outputs": [
        {
          "output_type": "stream",
          "name": "stdout",
          "text": [
            "GPU is available\n",
            "using GPU:Tesla T4\n"
          ]
        }
      ]
    },
    {
      "cell_type": "markdown",
      "source": [
        "# Creating an Uninitialized Tensor with `torch.empty`\n",
        "\n",
        "This code creates a 2×3 tensor (a two-dimensional array with 2 rows and 3 columns) using `torch.empty`, which allocates a block of memory for the tensor but does *not* initialize its values — meaning the tensor contains whatever random data was already in that memory location, making it suitable for performance-critical scenarios where values will be overwritten immediately, but unsafe to use without explicit assignment."
      ],
      "metadata": {
        "id": "CT647xM0_-kG"
      }
    },
    {
      "cell_type": "code",
      "source": [
        "a=torch.empty(2,3)"
      ],
      "metadata": {
        "id": "ApDJCyoGL5jX"
      },
      "execution_count": 3,
      "outputs": []
    },
    {
      "cell_type": "code",
      "source": [
        "type(a)"
      ],
      "metadata": {
        "colab": {
          "base_uri": "https://localhost:8080/"
        },
        "id": "p2zd30pu7i5p",
        "outputId": "03db36a5-ae22-4491-90f6-ef35764b715f"
      },
      "execution_count": 4,
      "outputs": [
        {
          "output_type": "execute_result",
          "data": {
            "text/plain": [
              "torch.Tensor"
            ]
          },
          "metadata": {},
          "execution_count": 4
        }
      ]
    },
    {
      "cell_type": "markdown",
      "source": [
        "# Creating a Tensor Filled with Zeros Using `torch.zeros`\n",
        "\n",
        "This code creates a 2×3 tensor filled entirely with zeros, initializing all elements to a value of 0.0 — commonly used to set up matrices or vectors that will be updated during training, such as bias terms, masks, or placeholder outputs, ensuring a clean, predictable starting state for computations."
      ],
      "metadata": {
        "id": "r8bzDOUkANT2"
      }
    },
    {
      "cell_type": "code",
      "source": [
        "torch.zeros(2,3)"
      ],
      "metadata": {
        "colab": {
          "base_uri": "https://localhost:8080/"
        },
        "id": "QnzO4KO07i8d",
        "outputId": "c1deccff-42d6-40cb-cd66-40806f948517"
      },
      "execution_count": 5,
      "outputs": [
        {
          "output_type": "execute_result",
          "data": {
            "text/plain": [
              "tensor([[0., 0., 0.],\n",
              "        [0., 0., 0.]])"
            ]
          },
          "metadata": {},
          "execution_count": 5
        }
      ]
    },
    {
      "cell_type": "markdown",
      "source": [
        "# Creating a Tensor Filled with Ones Using `torch.ones`\n",
        "\n",
        "This code creates a 2×3 tensor where every element is initialized to 1.0 — often used to initialize scaling factors, unit matrices, or as a baseline for operations like normalization, activation functions, or when constructing identity-like structures in neural network layers."
      ],
      "metadata": {
        "id": "py-ZPZI8ATHz"
      }
    },
    {
      "cell_type": "code",
      "source": [
        "torch.ones(2,3)"
      ],
      "metadata": {
        "colab": {
          "base_uri": "https://localhost:8080/"
        },
        "id": "bE7apQiq7i_Z",
        "outputId": "2b0303c7-c906-4cec-e055-9fb9bab80186"
      },
      "execution_count": 6,
      "outputs": [
        {
          "output_type": "execute_result",
          "data": {
            "text/plain": [
              "tensor([[1., 1., 1.],\n",
              "        [1., 1., 1.]])"
            ]
          },
          "metadata": {},
          "execution_count": 6
        }
      ]
    },
    {
      "cell_type": "markdown",
      "source": [
        "# Creating a Random Tensor Using `torch.rand`\n",
        "\n",
        "This code creates a 2×3 tensor populated with random values drawn from a uniform distribution between 0 and 1 — commonly used to initialize weights in neural networks when a simple, unbiased random starting point is desired, ensuring that neurons begin with diverse, non-zero activations to break symmetry during training."
      ],
      "metadata": {
        "id": "29vkvrlHAYT0"
      }
    },
    {
      "cell_type": "code",
      "source": [
        "torch.rand(2,3)"
      ],
      "metadata": {
        "colab": {
          "base_uri": "https://localhost:8080/"
        },
        "id": "K5vIgmnr7jBu",
        "outputId": "756cdaef-27cf-405b-838a-5c3e8c6e421e"
      },
      "execution_count": 7,
      "outputs": [
        {
          "output_type": "execute_result",
          "data": {
            "text/plain": [
              "tensor([[0.5151, 0.1334, 0.1054],\n",
              "        [0.6141, 0.7690, 0.6715]])"
            ]
          },
          "metadata": {},
          "execution_count": 7
        }
      ]
    },
    {
      "cell_type": "markdown",
      "source": [
        "# Reproducible Random Tensor Initialization with `torch.manual_seed`\n",
        "\n",
        "This code sets a fixed random seed using `torch.manual_seed(100)` to ensure that every subsequent call to `torch.rand(2,3)` generates the exact same 2×3 tensor of random values — enabling consistent and reproducible results across runs, which is essential for debugging, experimentation, and sharing model training outcomes in research or development."
      ],
      "metadata": {
        "id": "t1qDWnEmAhun"
      }
    },
    {
      "cell_type": "code",
      "source": [
        "torch.manual_seed(100)\n",
        "torch.rand(2,3)"
      ],
      "metadata": {
        "colab": {
          "base_uri": "https://localhost:8080/"
        },
        "id": "4dNU3WH17jEX",
        "outputId": "cb263b10-91ad-46fa-d235-0f0652b44e6b"
      },
      "execution_count": 8,
      "outputs": [
        {
          "output_type": "execute_result",
          "data": {
            "text/plain": [
              "tensor([[0.1117, 0.8158, 0.2626],\n",
              "        [0.4839, 0.6765, 0.7539]])"
            ]
          },
          "metadata": {},
          "execution_count": 8
        }
      ]
    },
    {
      "cell_type": "markdown",
      "source": [
        "# Creating a Tensor from Python List Data Using `torch.tensor`\n",
        "\n",
        "This code constructs a 2×3 tensor by directly converting a nested Python list into a PyTorch tensor, preserving the structure and values exactly as provided — commonly used to define small, hardcoded data such as labels, sample inputs, or fixed weights during prototyping or testing, ensuring precise control over initial tensor content without randomization or initialization."
      ],
      "metadata": {
        "id": "aCVwS7pRAspP"
      }
    },
    {
      "cell_type": "code",
      "source": [
        "torch.tensor([[1,2,3],[4,5,6]])"
      ],
      "metadata": {
        "colab": {
          "base_uri": "https://localhost:8080/"
        },
        "id": "A79C1ps88UeK",
        "outputId": "1ddcc79e-b0a8-48fc-e9c5-beda94e3bafc"
      },
      "execution_count": 9,
      "outputs": [
        {
          "output_type": "execute_result",
          "data": {
            "text/plain": [
              "tensor([[1, 2, 3],\n",
              "        [4, 5, 6]])"
            ]
          },
          "metadata": {},
          "execution_count": 9
        }
      ]
    },
    {
      "cell_type": "markdown",
      "source": [
        "# Creating a Sequence Tensor with `torch.arange`\n",
        "\n",
        "This code generates a 1D tensor containing evenly spaced values starting from 0 up to (but not including) 10, with a step size of 2 — producing `[0, 2, 4, 6, 8]` — commonly used to create index arrays, time steps, or uniform sampling grids for data manipulation, loss computation, or defining ranges in neural network operations without explicit listing."
      ],
      "metadata": {
        "id": "kZ2OU5udAzab"
      }
    },
    {
      "cell_type": "code",
      "source": [
        "print(\"using arange->\",torch.arange(0,10,2))"
      ],
      "metadata": {
        "id": "oJKG48NL8WHR",
        "colab": {
          "base_uri": "https://localhost:8080/"
        },
        "outputId": "a343f1f9-ef20-437f-d369-f4642007ce28"
      },
      "execution_count": 10,
      "outputs": [
        {
          "output_type": "stream",
          "name": "stdout",
          "text": [
            "using arange-> tensor([0, 2, 4, 6, 8])\n"
          ]
        }
      ]
    },
    {
      "cell_type": "markdown",
      "source": [
        "# Creating a Linearly Spaced Tensor with `torch.linspace`\n",
        "\n",
        "This code generates a 1D tensor with 10 evenly spaced values between 0 and 10 (inclusive), creating a smooth sequence that starts at 0 and ends at 10 — commonly used to define continuous ranges for plotting, sampling activation functions, or initializing parameters that require uniform coverage over an interval in mathematical or physical modeling within neural networks."
      ],
      "metadata": {
        "id": "BfeGKJCEA-fo"
      }
    },
    {
      "cell_type": "code",
      "source": [
        "print(\"using linspace ->\",torch.linspace(0,10,10))"
      ],
      "metadata": {
        "id": "IU1dhVlH8WSs",
        "colab": {
          "base_uri": "https://localhost:8080/"
        },
        "outputId": "372bb243-f766-40c6-b6c5-fb8ac6f6df54"
      },
      "execution_count": 11,
      "outputs": [
        {
          "output_type": "stream",
          "name": "stdout",
          "text": [
            "using linspace -> tensor([ 0.0000,  1.1111,  2.2222,  3.3333,  4.4444,  5.5556,  6.6667,  7.7778,\n",
            "         8.8889, 10.0000])\n"
          ]
        }
      ]
    },
    {
      "cell_type": "markdown",
      "source": [
        "# Creating an Identity Matrix with `torch.eye`\n",
        "\n",
        "This code generates a 5×5 identity matrix — a square tensor with ones on the main diagonal and zeros everywhere else — commonly used in linear algebra operations such as initializing weight matrices to preserve input magnitude, regularizing optimization, or serving as a baseline for matrix inversion and transformation tasks in neural network layers."
      ],
      "metadata": {
        "id": "xbbm5MnXBEat"
      }
    },
    {
      "cell_type": "code",
      "source": [
        "print(\"using eye->\", torch.eye(5))"
      ],
      "metadata": {
        "id": "_aIWymSp8Wca",
        "colab": {
          "base_uri": "https://localhost:8080/"
        },
        "outputId": "d40804c8-e72c-4fca-db13-09f7a41c89e1"
      },
      "execution_count": 12,
      "outputs": [
        {
          "output_type": "stream",
          "name": "stdout",
          "text": [
            "using eye-> tensor([[1., 0., 0., 0., 0.],\n",
            "        [0., 1., 0., 0., 0.],\n",
            "        [0., 0., 1., 0., 0.],\n",
            "        [0., 0., 0., 1., 0.],\n",
            "        [0., 0., 0., 0., 1.]])\n"
          ]
        }
      ]
    },
    {
      "cell_type": "markdown",
      "source": [
        "# Creating a Tensor Filled with a Constant Value Using `torch.full`\n",
        "\n",
        "This code creates a 3×3 tensor where every element is set to the specified value of 5 — useful for initializing tensors with a uniform constant, such as scaling factors, bias offsets, or padding values, ensuring all elements start with the same predefined value for consistent behavior in mathematical operations or model initialization."
      ],
      "metadata": {
        "id": "Yf-gnIVoBMcm"
      }
    },
    {
      "cell_type": "code",
      "source": [
        "print(\"using full->\",torch.full((3,3),5))"
      ],
      "metadata": {
        "id": "q8cwnhj88Wm6",
        "colab": {
          "base_uri": "https://localhost:8080/"
        },
        "outputId": "29ccd0f6-90a3-478e-a0f8-043e6a7055e9"
      },
      "execution_count": 13,
      "outputs": [
        {
          "output_type": "stream",
          "name": "stdout",
          "text": [
            "using full-> tensor([[5, 5, 5],\n",
            "        [5, 5, 5],\n",
            "        [5, 5, 5]])\n"
          ]
        }
      ]
    },
    {
      "cell_type": "code",
      "source": [
        "x = torch.tensor([[1,2,3],[4,5,6]])\n",
        "x"
      ],
      "metadata": {
        "id": "Zb1xGsuu8WwW",
        "colab": {
          "base_uri": "https://localhost:8080/"
        },
        "outputId": "bbccf558-35e6-44a4-9bcd-858b140eab94"
      },
      "execution_count": 14,
      "outputs": [
        {
          "output_type": "execute_result",
          "data": {
            "text/plain": [
              "tensor([[1, 2, 3],\n",
              "        [4, 5, 6]])"
            ]
          },
          "metadata": {},
          "execution_count": 14
        }
      ]
    },
    {
      "cell_type": "code",
      "source": [
        "x.shape"
      ],
      "metadata": {
        "id": "u6x7Fw_s8Wzz",
        "colab": {
          "base_uri": "https://localhost:8080/"
        },
        "outputId": "08c793f3-8e8f-4914-f7b1-a8fc0972bed0"
      },
      "execution_count": 15,
      "outputs": [
        {
          "output_type": "execute_result",
          "data": {
            "text/plain": [
              "torch.Size([2, 3])"
            ]
          },
          "metadata": {},
          "execution_count": 15
        }
      ]
    },
    {
      "cell_type": "markdown",
      "source": [
        "# Creating a Tensor with the Same Shape as Another Using `torch.empty_like`\n",
        "\n",
        "This code creates a new tensor that has the exact same shape and data type as the input tensor `x`, but fills it with uninitialized (random) values from memory — useful for efficiently allocating memory in-place when you need a placeholder tensor of matching dimensions, such as storing intermediate outputs or gradients during forward and backward passes, without copying or initializing data unnecessarily."
      ],
      "metadata": {
        "id": "WmNVn3VQCGUP"
      }
    },
    {
      "cell_type": "code",
      "source": [
        "torch.empty_like(x)"
      ],
      "metadata": {
        "id": "GJpEIb9X8W6j",
        "colab": {
          "base_uri": "https://localhost:8080/"
        },
        "outputId": "da6368e3-45ca-4136-88e7-21cd201caff2"
      },
      "execution_count": 16,
      "outputs": [
        {
          "output_type": "execute_result",
          "data": {
            "text/plain": [
              "tensor([[8675445202132104482, 7957695011165139568, 2318365875964093043],\n",
              "        [7233184988217307170,     137839914269218,                  65]])"
            ]
          },
          "metadata": {},
          "execution_count": 16
        }
      ]
    },
    {
      "cell_type": "markdown",
      "source": [
        "# Creating a Zero-initialized Tensor with the Same Shape as Another Using `torch.zeros_like`\n",
        "\n",
        "This code creates a new tensor with the same shape and data type as the input tensor `x`, but initializes all its elements to zero — commonly used to initialize gradients, residuals, or target outputs during backpropagation or loss computation, ensuring that operations start from a clean, known state while preserving the structure of the original tensor for safe and compatible computations."
      ],
      "metadata": {
        "id": "cK91lNuECNUz"
      }
    },
    {
      "cell_type": "code",
      "source": [
        "torch.zeros_like(x)"
      ],
      "metadata": {
        "id": "NeOyiyxS8W9P",
        "colab": {
          "base_uri": "https://localhost:8080/"
        },
        "outputId": "8b9b0485-3540-439d-afff-f4ef3c87df39"
      },
      "execution_count": 17,
      "outputs": [
        {
          "output_type": "execute_result",
          "data": {
            "text/plain": [
              "tensor([[0, 0, 0],\n",
              "        [0, 0, 0]])"
            ]
          },
          "metadata": {},
          "execution_count": 17
        }
      ]
    },
    {
      "cell_type": "markdown",
      "source": [
        "# Creating a One-initialized Tensor with the Same Shape as Another Using `torch.ones_like`\n",
        "\n",
        "This code creates a new tensor with the same shape and data type as the input tensor `x`, but initializes all its elements to one — useful for initializing scaling factors, unit masks, or activation multipliers during operations like normalization, attention mechanisms, or residual connections, ensuring consistent element-wise behavior while maintaining compatibility with the original tensor’s structure."
      ],
      "metadata": {
        "id": "_XnY5O-nCWiv"
      }
    },
    {
      "cell_type": "code",
      "source": [
        "torch.ones_like(x)"
      ],
      "metadata": {
        "id": "ECi1yAfe8XAB",
        "colab": {
          "base_uri": "https://localhost:8080/"
        },
        "outputId": "9c9e9836-c16b-4cb6-958a-b5de6f392ba4"
      },
      "execution_count": 18,
      "outputs": [
        {
          "output_type": "execute_result",
          "data": {
            "text/plain": [
              "tensor([[1, 1, 1],\n",
              "        [1, 1, 1]])"
            ]
          },
          "metadata": {},
          "execution_count": 18
        }
      ]
    },
    {
      "cell_type": "markdown",
      "source": [
        "# Understanding `torch.rand_like(x)` and Why It Differs from `torch.rand()`\n",
        "\n",
        "Unlike functions such as `torch.rand(2,3)` or `torch.zeros(3,3)`, which take explicit shape arguments to create a new tensor from scratch, `torch.rand_like(x)` requires an existing tensor `x` as input — it does *not* accept shape tuples like `(2,3)`. This is by design: `rand_like` is intended to replicate the *structure* (shape, dtype, device) of an existing tensor, not define a new one arbitrarily. If you pass a tuple or forget to define `x`, Python raises a `NameError` or `TypeError`, because the function expects a tensor object, not dimensions. To use `rand_like` correctly, always first define your reference tensor — for example, `x = torch.randn(2, 3)` — then call `torch.rand_like(x)` to generate a random tensor with identical properties, ensuring compatibility in operations like gradient initialization or layer-wise weight replacement without manual shape management."
      ],
      "metadata": {
        "id": "2Zhe2WioCtGR"
      }
    },
    {
      "cell_type": "code",
      "source": [
        "torch.rand_like(x)"
      ],
      "metadata": {
        "id": "Jb0Mwmmd8XCZ",
        "colab": {
          "base_uri": "https://localhost:8080/",
          "height": 144
        },
        "outputId": "f0548bed-8614-41c5-a281-65f9ec821a25"
      },
      "execution_count": 19,
      "outputs": [
        {
          "output_type": "error",
          "ename": "NotImplementedError",
          "evalue": "\"check_uniform_bounds\" not implemented for 'Long'",
          "traceback": [
            "\u001b[0;31m---------------------------------------------------------------------------\u001b[0m",
            "\u001b[0;31mNotImplementedError\u001b[0m                       Traceback (most recent call last)",
            "\u001b[0;32m/tmp/ipython-input-964596337.py\u001b[0m in \u001b[0;36m<cell line: 0>\u001b[0;34m()\u001b[0m\n\u001b[0;32m----> 1\u001b[0;31m \u001b[0mtorch\u001b[0m\u001b[0;34m.\u001b[0m\u001b[0mrand_like\u001b[0m\u001b[0;34m(\u001b[0m\u001b[0mx\u001b[0m\u001b[0;34m)\u001b[0m\u001b[0;34m\u001b[0m\u001b[0;34m\u001b[0m\u001b[0m\n\u001b[0m",
            "\u001b[0;31mNotImplementedError\u001b[0m: \"check_uniform_bounds\" not implemented for 'Long'"
          ]
        }
      ]
    },
    {
      "cell_type": "markdown",
      "source": [
        "# Querying the Data Type of a Tensor Using `x.dtype`\n",
        "\n",
        "This code retrieves the data type (dtype) of tensor `x`, such as `torch.float32`, `torch.int64`, or `torch.bool` — a critical property that determines how values are stored and computed, ensuring numerical precision, memory efficiency, and compatibility during operations like matrix multiplication or gradient updates in neural network training."
      ],
      "metadata": {
        "id": "c1xI3REPDmRz"
      }
    },
    {
      "cell_type": "code",
      "source": [
        "x.dtype"
      ],
      "metadata": {
        "id": "JKk8m-NK8XFC",
        "colab": {
          "base_uri": "https://localhost:8080/"
        },
        "outputId": "7e707619-21e4-44d3-e153-f7d05e34c278"
      },
      "execution_count": 20,
      "outputs": [
        {
          "output_type": "execute_result",
          "data": {
            "text/plain": [
              "torch.int64"
            ]
          },
          "metadata": {},
          "execution_count": 20
        }
      ]
    },
    {
      "cell_type": "markdown",
      "source": [
        "# Creating a Tensor with Explicit Data Type Using `dtype=torch.int32`\n",
        "\n",
        "This code creates a 1D tensor from a list of floating-point values but explicitly casts them to 32-bit integers (`torch.int32`), truncating decimal parts and converting `1.0`, `2.0`, `3.0` into the integers `1`, `2`, `3` — used when memory efficiency or integer-based operations (e.g., indexing, classification labels) are required, ensuring the tensor’s internal representation matches the computational needs of the downstream task rather than defaulting to floating-point precision."
      ],
      "metadata": {
        "id": "leYHrMogDquW"
      }
    },
    {
      "cell_type": "code",
      "source": [
        "torch.tensor([1.0,2.0,3.0],dtype=torch.int32)"
      ],
      "metadata": {
        "id": "sSnSXgU_8XHk",
        "colab": {
          "base_uri": "https://localhost:8080/"
        },
        "outputId": "b6414c47-0a32-4128-8791-ac2bafe7c78b"
      },
      "execution_count": 21,
      "outputs": [
        {
          "output_type": "execute_result",
          "data": {
            "text/plain": [
              "tensor([1, 2, 3], dtype=torch.int32)"
            ]
          },
          "metadata": {},
          "execution_count": 21
        }
      ]
    },
    {
      "cell_type": "markdown",
      "source": [
        "# Creating a Tensor with Explicit Double-Precision Floating Point Using `dtype=torch.float64`\n",
        "\n",
        "This code creates a 1D tensor from integer values but explicitly casts them to 64-bit floating-point numbers (`torch.float64`), preserving full numerical precision for applications requiring high accuracy—such as scientific computing, numerical stability in optimization, or interoperability with libraries that expect double-precision inputs—while maintaining the original values as `1.0`, `2.0`, and `3.0` in memory."
      ],
      "metadata": {
        "id": "awRL_L_vDx-W"
      }
    },
    {
      "cell_type": "code",
      "source": [
        "torch.tensor([1,2,3],dtype=torch.float64)"
      ],
      "metadata": {
        "id": "5I4ZvZe48XKA",
        "colab": {
          "base_uri": "https://localhost:8080/"
        },
        "outputId": "7a3db20b-b051-4e89-ed76-658ec1d49eba"
      },
      "execution_count": 22,
      "outputs": [
        {
          "output_type": "execute_result",
          "data": {
            "text/plain": [
              "tensor([1., 2., 3.], dtype=torch.float64)"
            ]
          },
          "metadata": {},
          "execution_count": 22
        }
      ]
    },
    {
      "cell_type": "markdown",
      "source": [
        "# Converting Tensor Data Type In-Place with `x.to(torch.float32)`\n",
        "\n",
        "This code converts the data type of tensor `x` to 32-bit floating-point (`torch.float32`) without changing its shape or device, enabling compatibility with models or operations that require single-precision floats—commonly used for efficient memory usage and faster computation on GPUs during neural network training, while preserving the underlying values through precise type casting."
      ],
      "metadata": {
        "id": "Hb8hoypqD59D"
      }
    },
    {
      "cell_type": "code",
      "source": [
        "x.to(torch.float32)"
      ],
      "metadata": {
        "id": "gb8V_kuM8XMf",
        "colab": {
          "base_uri": "https://localhost:8080/"
        },
        "outputId": "899abf49-d521-4f4f-ad83-2ab4f3ae88d6"
      },
      "execution_count": 23,
      "outputs": [
        {
          "output_type": "execute_result",
          "data": {
            "text/plain": [
              "tensor([[1., 2., 3.],\n",
              "        [4., 5., 6.]])"
            ]
          },
          "metadata": {},
          "execution_count": 23
        }
      ]
    },
    {
      "cell_type": "markdown",
      "source": [
        "# Using `torch.rand_like()` with Explicit `dtype` Override\n",
        "\n",
        "This code generates a random tensor with the same shape and device as `x`, but explicitly overrides its data type to `torch.float32` — allowing precise control over numerical precision during initialization, even when the source tensor `x` has a different dtype (e.g., `float64` or `int64`), ensuring compatibility with standard deep learning operations that assume single-precision floating-point inputs while maintaining structural consistency with existing tensors."
      ],
      "metadata": {
        "id": "EZ9097o9EN3L"
      }
    },
    {
      "cell_type": "code",
      "source": [
        "torch.rand_like(x,dtype=torch.float32)"
      ],
      "metadata": {
        "colab": {
          "base_uri": "https://localhost:8080/"
        },
        "id": "VQoHIV6aECB6",
        "outputId": "a06945fa-2b59-4a42-c1bc-d2e907575bfd"
      },
      "execution_count": 24,
      "outputs": [
        {
          "output_type": "execute_result",
          "data": {
            "text/plain": [
              "tensor([[0.2627, 0.0428, 0.2080],\n",
              "        [0.1180, 0.1217, 0.7356]])"
            ]
          },
          "metadata": {},
          "execution_count": 24
        }
      ]
    },
    {
      "cell_type": "code",
      "source": [
        "x=torch.rand(2,2)\n",
        "x"
      ],
      "metadata": {
        "colab": {
          "base_uri": "https://localhost:8080/"
        },
        "id": "NHOXgKRlECMw",
        "outputId": "48858095-aef6-4b33-8a3c-c6c13167e05c"
      },
      "execution_count": 25,
      "outputs": [
        {
          "output_type": "execute_result",
          "data": {
            "text/plain": [
              "tensor([[0.7118, 0.7876],\n",
              "        [0.4183, 0.9014]])"
            ]
          },
          "metadata": {},
          "execution_count": 25
        }
      ]
    },
    {
      "cell_type": "markdown",
      "source": [
        "# Element-wise Arithmetic Operations on Tensors\n",
        "\n",
        "This sequence demonstrates basic element-wise arithmetic operations on a PyTorch tensor `x`: adding 2, subtracting 2, multiplying by 3, dividing by 3, performing integer division by 3 after scaling by 100, and computing the modulo 2 remainder — illustrating how PyTorch broadcasts scalar values across all tensor elements for efficient, vectorized computations without loops, commonly used in data normalization, feature scaling, and discrete transformation tasks in machine learning pipelines."
      ],
      "metadata": {
        "id": "TiKLyiopFq2i"
      }
    },
    {
      "cell_type": "code",
      "source": [
        "# Add 2 to every element in tensor x (broadcasting scalar)\n",
        "x + 2\n",
        "\n",
        "# Subtract 2 from every element in tensor x (broadcasting scalar)\n",
        "x - 2\n",
        "\n",
        "# Multiply every element in tensor x by 3 (element-wise scalar multiplication)\n",
        "x * 3\n",
        "\n",
        "# Divide every element in tensor x by 3 (element-wise scalar division)\n",
        "x / 3\n",
        "\n",
        "# Scale all elements by 100, then perform integer division by 3 (truncates decimals)\n",
        "(x * 100) // 3\n",
        "\n",
        "# Take the result of the integer division, then compute modulo 2 to get parity (even/odd)\n",
        "((x * 100) // 3) % 2"
      ],
      "metadata": {
        "colab": {
          "base_uri": "https://localhost:8080/"
        },
        "id": "6cu4lb6lECUw",
        "outputId": "30778b2d-d5d1-456d-e4d6-0718163015f0"
      },
      "execution_count": 26,
      "outputs": [
        {
          "output_type": "execute_result",
          "data": {
            "text/plain": [
              "tensor([[1., 0.],\n",
              "        [1., 0.]])"
            ]
          },
          "metadata": {},
          "execution_count": 26
        }
      ]
    },
    {
      "cell_type": "markdown",
      "source": [
        "# Element-wise Tensor Operations with Random Matrices\n",
        "\n",
        "This code generates two random 2×3 tensors, `a` and `b`, using `torch.rand`, and prints their values to visualize randomly initialized data — commonly used for testing tensor operations, debugging broadcasting behavior, or demonstrating element-wise computations in neural network layers where inputs are sampled from a uniform distribution."
      ],
      "metadata": {
        "id": "JBNkDiFZGDa0"
      }
    },
    {
      "cell_type": "code",
      "source": [
        "a=torch.rand(2,3)\n",
        "b=torch.rand(2,3)\n",
        "print(a)\n",
        "print(b)"
      ],
      "metadata": {
        "colab": {
          "base_uri": "https://localhost:8080/"
        },
        "id": "wIch8j3fECX0",
        "outputId": "cd30102e-afd0-44d2-b94b-c5355b002564"
      },
      "execution_count": 27,
      "outputs": [
        {
          "output_type": "stream",
          "name": "stdout",
          "text": [
            "tensor([[0.9969, 0.7565, 0.2239],\n",
            "        [0.3023, 0.1784, 0.8238]])\n",
            "tensor([[0.5557, 0.9770, 0.4440],\n",
            "        [0.9478, 0.7445, 0.4892]])\n"
          ]
        }
      ]
    },
    {
      "cell_type": "markdown",
      "source": [
        "# Element-wise Tensor Arithmetic Between Two Tensors\n",
        "\n",
        "This sequence performs standard element-wise arithmetic operations—addition, subtraction, multiplication, division, and modulo—between two tensors of identical shape, applying each operation pair-wise across corresponding elements; these are foundational for neural network computations such as residual connections, attention scaling, normalization, and gradient updates, where tensor compatibility in shape ensures safe and efficient broadcasting without explicit loops."
      ],
      "metadata": {
        "id": "MbAwn_SGGciA"
      }
    },
    {
      "cell_type": "code",
      "source": [
        "a+b\n",
        "a-b\n",
        "a*b\n",
        "a/b\n",
        "a%b"
      ],
      "metadata": {
        "colab": {
          "base_uri": "https://localhost:8080/"
        },
        "id": "_S0ZmRV4ECbA",
        "outputId": "f2cdc128-e0fa-4dc1-b4cd-c1e4a5cbd60b"
      },
      "execution_count": 28,
      "outputs": [
        {
          "output_type": "execute_result",
          "data": {
            "text/plain": [
              "tensor([[0.4411, 0.7565, 0.2239],\n",
              "        [0.3023, 0.1784, 0.3346]])"
            ]
          },
          "metadata": {},
          "execution_count": 28
        }
      ]
    },
    {
      "cell_type": "code",
      "source": [
        "c=torch.tensor([1,-2,3,-4])"
      ],
      "metadata": {
        "id": "SzhYOTeEECeE"
      },
      "execution_count": 29,
      "outputs": []
    },
    {
      "cell_type": "markdown",
      "source": [
        "# Computing Absolute Values of a Tensor with `torch.abs`\n",
        "\n",
        "This code computes the element-wise absolute value of tensor `c`, converting all negative values to their positive counterparts while leaving non-negative values unchanged — commonly used to measure magnitude, compute loss functions like L1 norm, or enforce non-negativity in gradient-based optimizations where sign-invariant magnitudes are required."
      ],
      "metadata": {
        "id": "mcmxNO7LHRGQ"
      }
    },
    {
      "cell_type": "code",
      "source": [
        "torch.abs(c)"
      ],
      "metadata": {
        "colab": {
          "base_uri": "https://localhost:8080/"
        },
        "id": "CQ-faxNbECgq",
        "outputId": "154d362d-2fe6-4f21-f63b-bb5e97d247b7"
      },
      "execution_count": 32,
      "outputs": [
        {
          "output_type": "execute_result",
          "data": {
            "text/plain": [
              "tensor([1, 2, 3, 4])"
            ]
          },
          "metadata": {},
          "execution_count": 32
        }
      ]
    },
    {
      "cell_type": "markdown",
      "source": [
        "# Negating Tensor Elements with `torch.neg`\n",
        "\n",
        "This code computes the element-wise negation of tensor `c`, flipping the sign of every value (positive becomes negative, negative becomes positive) — commonly used to reverse gradients, invert transformations, or prepare target signals in loss functions where signed opposition is required, such as in adversarial training or contrastive learning objectives."
      ],
      "metadata": {
        "id": "LNKMpO5gHWjI"
      }
    },
    {
      "cell_type": "code",
      "source": [
        "torch.neg(c)"
      ],
      "metadata": {
        "colab": {
          "base_uri": "https://localhost:8080/"
        },
        "id": "KNON6fuDECj7",
        "outputId": "24f14f42-73f6-40ab-e748-0ffacf4569df"
      },
      "execution_count": 30,
      "outputs": [
        {
          "output_type": "execute_result",
          "data": {
            "text/plain": [
              "tensor([-1,  2, -3,  4])"
            ]
          },
          "metadata": {},
          "execution_count": 30
        }
      ]
    },
    {
      "cell_type": "code",
      "source": [
        "d=torch.tensor([1.9,2.3,3.7,4.4])"
      ],
      "metadata": {
        "id": "OmWy87YvECvh"
      },
      "execution_count": 31,
      "outputs": []
    },
    {
      "cell_type": "markdown",
      "source": [
        "# Rounding Tensor Elements to Nearest Integer with `torch.round`\n",
        "\n",
        "This code rounds each element of tensor `d` to the nearest integer, preserving the tensor’s shape and dtype (typically converting to float if not already), commonly used to discretize continuous predictions—such as probabilities or outputs from regression layers—into hard class labels or quantized values for post-processing, evaluation, or compatibility with discrete downstream tasks."
      ],
      "metadata": {
        "id": "T0l6rbWGHgSi"
      }
    },
    {
      "cell_type": "code",
      "source": [
        "torch.round(d)"
      ],
      "metadata": {
        "colab": {
          "base_uri": "https://localhost:8080/"
        },
        "id": "urFFONQ5G9Q0",
        "outputId": "ec892713-c437-4c9a-b29d-1c62b90ead27"
      },
      "execution_count": 33,
      "outputs": [
        {
          "output_type": "execute_result",
          "data": {
            "text/plain": [
              "tensor([2., 2., 4., 4.])"
            ]
          },
          "metadata": {},
          "execution_count": 33
        }
      ]
    },
    {
      "cell_type": "markdown",
      "source": [
        "# Rounding Tensor Elements Up to the Nearest Integer with `torch.ceil`\n",
        "\n",
        "This code computes the ceiling of each element in tensor `d`, rounding every value up to the smallest integer greater than or equal to it — commonly used to enforce minimum thresholds, discretize continuous values upward (e.g., in resource allocation or batch sizing), or prepare data for integer-based indexing and quantization where upward precision is required."
      ],
      "metadata": {
        "id": "WoaYh44AHmeS"
      }
    },
    {
      "cell_type": "code",
      "source": [
        "torch.ceil(d)"
      ],
      "metadata": {
        "colab": {
          "base_uri": "https://localhost:8080/"
        },
        "id": "LHbQSln6G9TE",
        "outputId": "04c8a408-0c1c-432e-8a84-ba849ca981c5"
      },
      "execution_count": 34,
      "outputs": [
        {
          "output_type": "execute_result",
          "data": {
            "text/plain": [
              "tensor([2., 3., 4., 5.])"
            ]
          },
          "metadata": {},
          "execution_count": 34
        }
      ]
    },
    {
      "cell_type": "markdown",
      "source": [
        "# Rounding Tensor Elements Down to the Nearest Integer with `torch.floor`\n",
        "\n",
        "This code computes the floor of each element in tensor `d`, rounding every value down to the largest integer less than or equal to it — commonly used to enforce maximum thresholds, discretize continuous values downward (e.g., in binning or quantization), or prepare data for integer-based indexing where truncation toward zero is required for deterministic behavior."
      ],
      "metadata": {
        "id": "NoXuz5IHHtaE"
      }
    },
    {
      "cell_type": "code",
      "source": [
        "torch.floor(d)"
      ],
      "metadata": {
        "colab": {
          "base_uri": "https://localhost:8080/"
        },
        "id": "16Cq0XQ5G9VX",
        "outputId": "7c145439-6c77-4aa4-f804-b81405e0abfb"
      },
      "execution_count": 35,
      "outputs": [
        {
          "output_type": "execute_result",
          "data": {
            "text/plain": [
              "tensor([1., 2., 3., 4.])"
            ]
          },
          "metadata": {},
          "execution_count": 35
        }
      ]
    },
    {
      "cell_type": "markdown",
      "source": [
        "# Clamping Tensor Values to a Specified Range with `torch.clamp`\n",
        "\n",
        "This code restricts all elements of tensor `d` to lie within the range [2, 3], setting any value below 2 to 2 and any value above 3 to 3 — commonly used to prevent extreme activations, stabilize gradients, or enforce physical or logical constraints in neural network outputs, such as pixel intensities, probabilities, or control signals, ensuring robustness and adherence to bounded domains during inference or training."
      ],
      "metadata": {
        "id": "O_p642C0H5wE"
      }
    },
    {
      "cell_type": "code",
      "source": [
        "torch.clamp(d,min=2,max=3)"
      ],
      "metadata": {
        "colab": {
          "base_uri": "https://localhost:8080/"
        },
        "id": "S_PR9GeGG9ZM",
        "outputId": "c382b196-53cc-4cbc-d20e-11b045624ec8"
      },
      "execution_count": 36,
      "outputs": [
        {
          "output_type": "execute_result",
          "data": {
            "text/plain": [
              "tensor([2.0000, 2.3000, 3.0000, 3.0000])"
            ]
          },
          "metadata": {},
          "execution_count": 36
        }
      ]
    },
    {
      "cell_type": "markdown",
      "source": [
        "# Generating a Random Integer Tensor with `torch.randint`\n",
        "\n",
        "This code creates a 2×3 tensor filled with random integers sampled uniformly from the range [0, 10), meaning each element is an integer between 0 (inclusive) and 10 (exclusive) — commonly used to generate discrete labels, mask indices, or synthetic categorical data for testing classification models, embedding layers, or operations that require integer-valued inputs rather than continuous values."
      ],
      "metadata": {
        "id": "z8kZ-AHnaAgK"
      }
    },
    {
      "cell_type": "code",
      "source": [
        "e=torch.randint(size=(2,3),low=0,high=10,dtype=torch.float32)\n",
        "\n",
        "\n",
        "e"
      ],
      "metadata": {
        "colab": {
          "base_uri": "https://localhost:8080/"
        },
        "id": "qnDtD2drG9b0",
        "outputId": "87b896b0-b303-440c-8622-7c1e2d1d011f"
      },
      "execution_count": 51,
      "outputs": [
        {
          "output_type": "execute_result",
          "data": {
            "text/plain": [
              "tensor([[6., 1., 5.],\n",
              "        [5., 0., 4.]])"
            ]
          },
          "metadata": {},
          "execution_count": 51
        }
      ]
    },
    {
      "cell_type": "markdown",
      "source": [
        "# Computing Summations Along Tensor Dimensions with `torch.sum`\n",
        "\n",
        "This sequence computes the total sum of all elements in tensor `e`, then breaks it down along specific dimensions: summing across columns (`dim=0`) produces a 1D tensor with one value per column (reducing rows), while summing across rows (`dim=1`) produces a 1D tensor with one value per row (reducing columns) — essential for aggregating features, computing loss over batches, or reducing activations in neural networks to obtain summary statistics while preserving structural intent through explicit dimension control."
      ],
      "metadata": {
        "id": "i0OzxkXWaxQV"
      }
    },
    {
      "cell_type": "code",
      "source": [
        "torch.sum(e)\n",
        "\n",
        "#sum along columns\n",
        "torch.sum(e,dim=0)\n",
        "#sum along rows\n",
        "torch.sum(e,dim=1)"
      ],
      "metadata": {
        "colab": {
          "base_uri": "https://localhost:8080/"
        },
        "id": "Bsd8QDpNG9d5",
        "outputId": "6875d081-7327-4c2e-812a-726418615c0a"
      },
      "execution_count": 52,
      "outputs": [
        {
          "output_type": "execute_result",
          "data": {
            "text/plain": [
              "tensor([12.,  9.])"
            ]
          },
          "metadata": {},
          "execution_count": 52
        }
      ]
    },
    {
      "cell_type": "markdown",
      "source": [
        "# Computing Mean Values Along Tensor Dimensions with `torch.mean`\n",
        "\n",
        "This sequence computes the global mean of all elements in tensor `e`, then calculates the mean along specific dimensions: averaging along `dim=0` (columns) produces a row vector where each element is the mean of its corresponding column, effectively reducing the number of rows while preserving column structure — commonly used to compute feature-wise averages across a batch, enabling normalization, statistical analysis, or activation pooling in neural network layers."
      ],
      "metadata": {
        "id": "MdwrONoXe7OF"
      }
    },
    {
      "cell_type": "code",
      "source": [
        "#mean\n",
        "torch.mean(e)\n",
        "#mean along col\n",
        "torch.mean(e,dim=0)\n"
      ],
      "metadata": {
        "colab": {
          "base_uri": "https://localhost:8080/"
        },
        "id": "5G0UGpV7G9gd",
        "outputId": "6f21d6a4-1874-4459-a3f4-252186e7fb6f"
      },
      "execution_count": 53,
      "outputs": [
        {
          "output_type": "execute_result",
          "data": {
            "text/plain": [
              "tensor([5.5000, 0.5000, 4.5000])"
            ]
          },
          "metadata": {},
          "execution_count": 53
        }
      ]
    },
    {
      "cell_type": "markdown",
      "source": [
        "# Computing the Median of All Elements in a Tensor with `torch.median`\n",
        "\n",
        "This code computes the median value of all elements in tensor `e`, returning the middle value when all elements are sorted in ascending order — used to obtain a robust central tendency measure that is less sensitive to outliers than the mean, making it useful for anomaly detection, robust statistics in training data, or stabilizing outputs in noisy or skewed distributions within neural network inference."
      ],
      "metadata": {
        "id": "5ke0ErrLfAim"
      }
    },
    {
      "cell_type": "code",
      "source": [
        "#median\n",
        "torch.median(e)"
      ],
      "metadata": {
        "colab": {
          "base_uri": "https://localhost:8080/"
        },
        "id": "-sZSio-3G9is",
        "outputId": "9ddd1df8-4814-4a60-bb04-6ab5b4ee62ca"
      },
      "execution_count": 54,
      "outputs": [
        {
          "output_type": "execute_result",
          "data": {
            "text/plain": [
              "tensor(4.)"
            ]
          },
          "metadata": {},
          "execution_count": 54
        }
      ]
    },
    {
      "cell_type": "markdown",
      "source": [
        "# Finding Global Maximum and Minimum Values in a Tensor with `torch.max` and `torch.min`\n",
        "\n",
        "This sequence retrieves the single largest and smallest values across all elements in tensor `e`, providing the extreme bounds of the data — commonly used to monitor activation ranges, detect saturation or vanishing signals in neural networks, normalize inputs, or set clipping thresholds for stable training and inference."
      ],
      "metadata": {
        "id": "9-7c1ZYbfGKi"
      }
    },
    {
      "cell_type": "code",
      "source": [
        "#max and min\n",
        "torch.max(e)\n",
        "torch.min(e)"
      ],
      "metadata": {
        "colab": {
          "base_uri": "https://localhost:8080/"
        },
        "id": "cc04T8zwG9nA",
        "outputId": "48ccbaaa-8e4e-4261-ec75-1a6b8a31fa27"
      },
      "execution_count": 55,
      "outputs": [
        {
          "output_type": "execute_result",
          "data": {
            "text/plain": [
              "tensor(0.)"
            ]
          },
          "metadata": {},
          "execution_count": 55
        }
      ]
    },
    {
      "cell_type": "markdown",
      "source": [
        "# Computing the Product of All Elements in a Tensor with `torch.prod`\n",
        "\n",
        "This code calculates the product of all elements in tensor `e`, multiplying every value together to produce a single scalar result — used in probabilistic models for joint likelihood computation, attention scaling, or geometric mean approximations, where cumulative multiplication across features or time steps is required to capture multiplicative interactions in neural network outputs or loss functions."
      ],
      "metadata": {
        "id": "MtBetv-VfNag"
      }
    },
    {
      "cell_type": "code",
      "source": [
        "#product\n",
        "torch.prod(e)"
      ],
      "metadata": {
        "colab": {
          "base_uri": "https://localhost:8080/"
        },
        "id": "cgEsoPjOG9ph",
        "outputId": "0ff30625-239e-4b4a-9bde-92bff5039a45"
      },
      "execution_count": 56,
      "outputs": [
        {
          "output_type": "execute_result",
          "data": {
            "text/plain": [
              "tensor(0.)"
            ]
          },
          "metadata": {},
          "execution_count": 56
        }
      ]
    },
    {
      "cell_type": "markdown",
      "source": [
        "# Computing Standard Deviation of a Tensor with `torch.std`\n",
        "\n",
        "This code computes the standard deviation of all elements in tensor `e`, measuring the spread or variability of the values around their mean — essential for analyzing activation distributions, detecting training instability, normalizing inputs via standardization, or initializing weights with controlled variance to maintain signal flow in deep neural networks."
      ],
      "metadata": {
        "id": "0__WblIPfUok"
      }
    },
    {
      "cell_type": "code",
      "source": [
        "#standard deviation\n",
        "torch.std(e)"
      ],
      "metadata": {
        "colab": {
          "base_uri": "https://localhost:8080/"
        },
        "id": "7NzY7N4gG9rn",
        "outputId": "655e0b21-2319-4556-ca1c-2f7200ce59a8"
      },
      "execution_count": 57,
      "outputs": [
        {
          "output_type": "execute_result",
          "data": {
            "text/plain": [
              "tensor(2.4290)"
            ]
          },
          "metadata": {},
          "execution_count": 57
        }
      ]
    },
    {
      "cell_type": "markdown",
      "source": [
        "# Computing Variance of a Tensor with `torch.var`\n",
        "\n",
        "This code computes the variance of all elements in tensor `e`, measuring the average squared deviation from the mean — used to quantify the spread of activations or weights, monitor training dynamics, and inform initialization strategies (e.g., Xavier/Glorot) that rely on controlled variance to prevent vanishing or exploding gradients in deep neural networks."
      ],
      "metadata": {
        "id": "Kpt7CbusfWy7"
      }
    },
    {
      "cell_type": "code",
      "source": [
        "#variance\n",
        "torch.var(e)"
      ],
      "metadata": {
        "colab": {
          "base_uri": "https://localhost:8080/"
        },
        "id": "zJ-oOkJWG9uE",
        "outputId": "98b870ec-38e0-4caf-b46e-170ed349a1fb"
      },
      "execution_count": 58,
      "outputs": [
        {
          "output_type": "execute_result",
          "data": {
            "text/plain": [
              "tensor(5.9000)"
            ]
          },
          "metadata": {},
          "execution_count": 58
        }
      ]
    },
    {
      "cell_type": "markdown",
      "source": [
        "# Finding the Index of the Maximum Value in a Flattened Tensor with `torch.argmax`\n",
        "\n",
        "This code returns the single flat index corresponding to the largest element in tensor `e`, treating the tensor as a flattened 1D array — commonly used to identify the position of the dominant activation, such as in classification tasks where the highest score corresponds to the predicted class, or for locating peak values in attention maps, feature responses, or optimization signals during model analysis."
      ],
      "metadata": {
        "id": "S-7V49CHfggw"
      }
    },
    {
      "cell_type": "code",
      "source": [
        "#argmax\n",
        "torch.argmax(e)"
      ],
      "metadata": {
        "colab": {
          "base_uri": "https://localhost:8080/"
        },
        "id": "PjmuFf7AG9wn",
        "outputId": "8e01d1d4-9d14-441b-8961-57a87856875f"
      },
      "execution_count": 59,
      "outputs": [
        {
          "output_type": "execute_result",
          "data": {
            "text/plain": [
              "tensor(0)"
            ]
          },
          "metadata": {},
          "execution_count": 59
        }
      ]
    },
    {
      "cell_type": "markdown",
      "source": [
        "# Finding the Index of the Minimum Value in a Flattened Tensor with `torch.argmin`\n",
        "\n",
        "This code returns the single flat index corresponding to the smallest element in tensor `e`, treating the tensor as a flattened 1D array — commonly used to locate the weakest activation, identify outliers, or find minimal error regions in optimization and attention mechanisms, providing a way to pinpoint critical locations in data without returning the value itself."
      ],
      "metadata": {
        "id": "lVPFQnDsfiLj"
      }
    },
    {
      "cell_type": "code",
      "source": [
        "#argmin\n",
        "torch.argmin(e)"
      ],
      "metadata": {
        "colab": {
          "base_uri": "https://localhost:8080/"
        },
        "id": "Nq8QVdo0cWbD",
        "outputId": "d6264d5f-47a3-4643-c254-9b44d2ab5a8c"
      },
      "execution_count": 60,
      "outputs": [
        {
          "output_type": "execute_result",
          "data": {
            "text/plain": [
              "tensor(4)"
            ]
          },
          "metadata": {},
          "execution_count": 60
        }
      ]
    },
    {
      "cell_type": "code",
      "source": [
        "f=torch.randint(size=(2,3),low=0,high=10)\n",
        "g=torch.randint(size=(3,2),low=0,high=10)\n",
        "\n",
        "print(f)\n",
        "print(g)"
      ],
      "metadata": {
        "colab": {
          "base_uri": "https://localhost:8080/"
        },
        "id": "YFuzcgihcU6C",
        "outputId": "07dfcfb5-17b3-45e1-a824-cb5fe51d71ae"
      },
      "execution_count": 63,
      "outputs": [
        {
          "output_type": "stream",
          "name": "stdout",
          "text": [
            "tensor([[7, 1, 1],\n",
            "        [5, 4, 4]])\n",
            "tensor([[1, 1],\n",
            "        [2, 4],\n",
            "        [7, 2]])\n"
          ]
        }
      ]
    },
    {
      "cell_type": "markdown",
      "source": [
        "# Matrix Multiplication with `torch.matmul`\n",
        "\n",
        "This code performs standard matrix multiplication between tensors `f` and `g`, computing the dot product of rows from `f` with columns from `g` — the foundational operation in dense neural network layers, where weights are applied to inputs to produce transformed outputs; it enables efficient linear transformations at scale, supporting batched computations and automatic broadcasting for compatibility with convolutional, recurrent, and fully connected architectures."
      ],
      "metadata": {
        "id": "j-A2VNdJftcf"
      }
    },
    {
      "cell_type": "code",
      "source": [
        "torch.matmul(f,g)"
      ],
      "metadata": {
        "colab": {
          "base_uri": "https://localhost:8080/"
        },
        "id": "ndr48ZmTcU8x",
        "outputId": "f1eeb0f5-bdec-4bdc-898a-861341c6d1c2"
      },
      "execution_count": 64,
      "outputs": [
        {
          "output_type": "execute_result",
          "data": {
            "text/plain": [
              "tensor([[16, 13],\n",
              "        [41, 29]])"
            ]
          },
          "metadata": {},
          "execution_count": 64
        }
      ]
    },
    {
      "cell_type": "markdown",
      "source": [
        "# Computing the Dot Product of Two Vectors with `torch.dot`\n",
        "\n",
        "This code calculates the dot product (scalar product) of two 1D tensors, `vector1` and `vector2`, by multiplying corresponding elements and summing the results — a fundamental operation in linear algebra used to measure similarity between vectors, compute projections, apply attention weights, or evaluate inner products in neural networks, where the output represents the aligned magnitude of two vectors in shared space."
      ],
      "metadata": {
        "id": "7MX4usGifxIW"
      }
    },
    {
      "cell_type": "code",
      "source": [
        "vector1=torch.tensor([1,2])\n",
        "vector2=torch.tensor([3,4])\n",
        "\n",
        "torch.dot(vector1, vector2)"
      ],
      "metadata": {
        "colab": {
          "base_uri": "https://localhost:8080/"
        },
        "id": "9hpu6b6RcU_R",
        "outputId": "e89dc1aa-dd71-4f0e-c274-8e96a1bbb8b5"
      },
      "execution_count": 65,
      "outputs": [
        {
          "output_type": "execute_result",
          "data": {
            "text/plain": [
              "tensor(11)"
            ]
          },
          "metadata": {},
          "execution_count": 65
        }
      ]
    },
    {
      "cell_type": "markdown",
      "source": [
        "# Transposing a Tensor with `torch.transpose`\n",
        "\n",
        "This code swaps the dimensions of tensor `f` along axes 0 and 1 — converting rows into columns and columns into rows — commonly used to align tensor shapes for matrix multiplication, prepare data for layer inputs (e.g., switching batch and feature dimensions), or match expected formats in operations like attention mechanisms or convolutional layers that require specific axis ordering."
      ],
      "metadata": {
        "id": "cEt2HsLrf7Sq"
      }
    },
    {
      "cell_type": "code",
      "source": [
        "torch.transpose(f, 0,1)"
      ],
      "metadata": {
        "colab": {
          "base_uri": "https://localhost:8080/"
        },
        "id": "cYpFbR9DcVBR",
        "outputId": "f85ff5db-6036-4d01-835b-80d039474b4f"
      },
      "execution_count": 67,
      "outputs": [
        {
          "output_type": "execute_result",
          "data": {
            "text/plain": [
              "tensor([[7, 5],\n",
              "        [1, 4],\n",
              "        [1, 4]])"
            ]
          },
          "metadata": {},
          "execution_count": 67
        }
      ]
    },
    {
      "cell_type": "markdown",
      "source": [
        "# Generating a Random 3×3 Float Tensor with `torch.randint`\n",
        "\n",
        "This code creates a 3×3 tensor filled with random integers between 0 (inclusive) and 10 (exclusive), then explicitly casts them to `torch.float32` — commonly used to simulate real-valued data with discrete sampling, such as noisy measurements or discretized features, while ensuring compatibility with floating-point operations in neural networks that require single-precision arithmetic for efficiency and numerical stability."
      ],
      "metadata": {
        "id": "wy26-u9qgCD6"
      }
    },
    {
      "cell_type": "code",
      "source": [
        "h=torch.randint(size=(3,3),low=0,high=10,dtype=torch.float32)\n",
        "h"
      ],
      "metadata": {
        "colab": {
          "base_uri": "https://localhost:8080/"
        },
        "id": "REqbycfncVDZ",
        "outputId": "94c1685d-90a1-4787-a226-aca7f19098f8"
      },
      "execution_count": 71,
      "outputs": [
        {
          "output_type": "execute_result",
          "data": {
            "text/plain": [
              "tensor([[5., 6., 1.],\n",
              "        [4., 5., 6.],\n",
              "        [9., 2., 3.]])"
            ]
          },
          "metadata": {},
          "execution_count": 71
        }
      ]
    },
    {
      "cell_type": "markdown",
      "source": [
        "# Computing the Determinant of a Square Tensor with `torch.det`\n",
        "\n",
        "This code calculates the determinant of the 3×3 floating-point tensor `h` — a scalar value that represents the scaling factor of the linear transformation described by the matrix, used to assess invertibility (non-zero determinant = invertible), measure volume change in coordinate transformations, or detect degenerate matrices in optimization and geometric deep learning applications."
      ],
      "metadata": {
        "id": "RqMa2blYf-p5"
      }
    },
    {
      "cell_type": "code",
      "source": [
        "torch.det(h)"
      ],
      "metadata": {
        "colab": {
          "base_uri": "https://localhost:8080/"
        },
        "id": "O4kYgOeYcVFa",
        "outputId": "2d88b873-2e57-4d5d-9dee-9d1e9eed339b"
      },
      "execution_count": 72,
      "outputs": [
        {
          "output_type": "execute_result",
          "data": {
            "text/plain": [
              "tensor(230.0000)"
            ]
          },
          "metadata": {},
          "execution_count": 72
        }
      ]
    },
    {
      "cell_type": "markdown",
      "source": [
        "# Computing the Matrix Inverse with `torch.inverse`\n",
        "\n",
        "This code calculates the inverse of the 3×3 invertible tensor `h`, producing a new matrix that, when multiplied by `h`, yields the identity matrix — essential for solving linear systems, undoing transformations, or computing precision matrices in probabilistic models; it requires that `h` be square and non-singular (determinant ≠ 0), making it critical for stability in neural network operations involving normalization, whitening, or geometric corrections."
      ],
      "metadata": {
        "id": "fTi0_Of5gFN1"
      }
    },
    {
      "cell_type": "code",
      "source": [
        "torch.inverse(h)"
      ],
      "metadata": {
        "colab": {
          "base_uri": "https://localhost:8080/"
        },
        "id": "Gj03HesycVHh",
        "outputId": "dcddc641-e6b1-4675-cb93-c871ca9b8d78"
      },
      "execution_count": 73,
      "outputs": [
        {
          "output_type": "execute_result",
          "data": {
            "text/plain": [
              "tensor([[ 0.0130, -0.0696,  0.1348],\n",
              "        [ 0.1826,  0.0261, -0.1130],\n",
              "        [-0.1609,  0.1913,  0.0043]])"
            ]
          },
          "metadata": {},
          "execution_count": 73
        }
      ]
    },
    {
      "cell_type": "code",
      "source": [],
      "metadata": {
        "colab": {
          "base_uri": "https://localhost:8080/",
          "height": 144
        },
        "id": "i385SkjIcVJp",
        "outputId": "33e62861-d59d-42f3-afdf-ebc2f837b6c6"
      },
      "execution_count": 74,
      "outputs": [
        {
          "output_type": "error",
          "ename": "NameError",
          "evalue": "name 'i' is not defined",
          "traceback": [
            "\u001b[0;31m---------------------------------------------------------------------------\u001b[0m",
            "\u001b[0;31mNameError\u001b[0m                                 Traceback (most recent call last)",
            "\u001b[0;32m/tmp/ipython-input-2261733953.py\u001b[0m in \u001b[0;36m<cell line: 0>\u001b[0;34m()\u001b[0m\n\u001b[0;32m----> 1\u001b[0;31m \u001b[0mi\u001b[0m\u001b[0;34m>\u001b[0m\u001b[0mj\u001b[0m\u001b[0;34m\u001b[0m\u001b[0;34m\u001b[0m\u001b[0m\n\u001b[0m",
            "\u001b[0;31mNameError\u001b[0m: name 'i' is not defined"
          ]
        }
      ]
    },
    {
      "cell_type": "code",
      "source": [],
      "metadata": {
        "id": "sMhsFpNBcVMB"
      },
      "execution_count": null,
      "outputs": []
    },
    {
      "cell_type": "code",
      "source": [],
      "metadata": {
        "id": "8TOB5jDUcVQR"
      },
      "execution_count": null,
      "outputs": []
    },
    {
      "cell_type": "code",
      "source": [],
      "metadata": {
        "id": "lmwvS9PucVZ5"
      },
      "execution_count": null,
      "outputs": []
    },
    {
      "cell_type": "code",
      "source": [],
      "metadata": {
        "id": "h_MO7ZPEcVdb"
      },
      "execution_count": null,
      "outputs": []
    },
    {
      "cell_type": "code",
      "source": [],
      "metadata": {
        "id": "-YxS0-hzcVg6"
      },
      "execution_count": null,
      "outputs": []
    },
    {
      "cell_type": "code",
      "source": [],
      "metadata": {
        "id": "OzyJPSxmcVjR"
      },
      "execution_count": null,
      "outputs": []
    },
    {
      "cell_type": "markdown",
      "source": [],
      "metadata": {
        "id": "l3KwQw1qLkIX"
      }
    }
  ]
}